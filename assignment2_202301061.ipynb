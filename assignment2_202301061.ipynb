{
  "nbformat": 4,
  "nbformat_minor": 0,
  "metadata": {
    "colab": {
      "provenance": [],
      "mount_file_id": "1ddRLnAlXePOQ-JMsIc_fc8deyOfIngfv",
      "authorship_tag": "ABX9TyPqfaQGymPaK7AnP9mApJiT",
      "include_colab_link": true
    },
    "kernelspec": {
      "name": "python3",
      "display_name": "Python 3"
    },
    "language_info": {
      "name": "python"
    }
  },
  "cells": [
    {
      "cell_type": "markdown",
      "metadata": {
        "id": "view-in-github",
        "colab_type": "text"
      },
      "source": [
        "<a href=\"https://colab.research.google.com/github/shivanshi2206/BIG_DATA_ANALYTICS/blob/main/assignment2_202301061.ipynb\" target=\"_parent\"><img src=\"https://colab.research.google.com/assets/colab-badge.svg\" alt=\"Open In Colab\"/></a>"
      ]
    },
    {
      "cell_type": "code",
      "execution_count": null,
      "metadata": {
        "id": "L5VSWq0I-ym6"
      },
      "outputs": [],
      "source": [
        "import numpy as np\n"
      ]
    },
    {
      "cell_type": "markdown",
      "source": [
        "Q1"
      ],
      "metadata": {
        "id": "-3P2SZjtZwyO"
      }
    },
    {
      "cell_type": "code",
      "source": [
        " a=np.array([1, 2, 3, 6, 4, 5])"
      ],
      "metadata": {
        "id": "KAKUjEua_kK_"
      },
      "execution_count": null,
      "outputs": []
    },
    {
      "cell_type": "code",
      "source": [
        "r_a=a[::-1]\n",
        "r_a"
      ],
      "metadata": {
        "colab": {
          "base_uri": "https://localhost:8080/"
        },
        "id": "1BJeeMSmA01l",
        "outputId": "5af0f913-0cc6-4021-f7ac-b097f738f18f"
      },
      "execution_count": null,
      "outputs": [
        {
          "output_type": "execute_result",
          "data": {
            "text/plain": [
              "array([5, 4, 6, 3, 2, 1])"
            ]
          },
          "metadata": {},
          "execution_count": 3
        }
      ]
    },
    {
      "cell_type": "markdown",
      "source": [
        "Q2"
      ],
      "metadata": {
        "id": "160sOMJpZ38H"
      }
    },
    {
      "cell_type": "code",
      "source": [
        "arr1 = np.array([[1, 2], [3, 4]])\n",
        "arr2 = np.array([[1, 2], [3, 4]])"
      ],
      "metadata": {
        "id": "70YBLO1SBTt2"
      },
      "execution_count": null,
      "outputs": []
    },
    {
      "cell_type": "code",
      "source": [
        "b=np.array_equal(arr1,arr2)\n",
        "b"
      ],
      "metadata": {
        "colab": {
          "base_uri": "https://localhost:8080/"
        },
        "id": "HKJmp9JjBZJt",
        "outputId": "7db1362e-d81f-4266-bb17-703e22e24aef"
      },
      "execution_count": null,
      "outputs": [
        {
          "output_type": "execute_result",
          "data": {
            "text/plain": [
              "True"
            ]
          },
          "metadata": {},
          "execution_count": 5
        }
      ]
    },
    {
      "cell_type": "code",
      "source": [
        "arr3 = np.array([[1, 2,1], [3, 4,0]])\n",
        "arr4 = np.array([[1, 2], [3, 4]])\n",
        "c=np.array_equal(arr3,arr4)"
      ],
      "metadata": {
        "id": "aIMt3FLMBsUp"
      },
      "execution_count": null,
      "outputs": []
    },
    {
      "cell_type": "code",
      "source": [
        "c"
      ],
      "metadata": {
        "colab": {
          "base_uri": "https://localhost:8080/"
        },
        "id": "L_QnoPuqB6Ic",
        "outputId": "f08aa3fb-d1db-4160-cb19-1cc30899b3d4"
      },
      "execution_count": null,
      "outputs": [
        {
          "output_type": "execute_result",
          "data": {
            "text/plain": [
              "False"
            ]
          },
          "metadata": {},
          "execution_count": 7
        }
      ]
    },
    {
      "cell_type": "markdown",
      "source": [
        "Q3"
      ],
      "metadata": {
        "id": "MrbC_-jtaH-P"
      }
    },
    {
      "cell_type": "code",
      "source": [
        "x = np.array([1,2,3,4,5,1,2,1,1,1,0])\n",
        "unique_values,count=np.unique(x,return_counts=True)\n",
        "\n",
        "print(\"Unique values:\", unique_values)\n",
        "print(\"Counts:\", count)\n",
        "\n"
      ],
      "metadata": {
        "colab": {
          "base_uri": "https://localhost:8080/"
        },
        "id": "2lGmbT-RB7Nz",
        "outputId": "a6a34acd-d825-4938-aa0e-d1165aa07b45"
      },
      "execution_count": null,
      "outputs": [
        {
          "output_type": "stream",
          "name": "stdout",
          "text": [
            "Unique values: [0 1 2 3 4 5]\n",
            "Counts: [1 5 2 1 1 1]\n"
          ]
        }
      ]
    },
    {
      "cell_type": "markdown",
      "source": [
        "Q4"
      ],
      "metadata": {
        "id": "Jcq50kYeaQto"
      }
    },
    {
      "cell_type": "code",
      "source": [
        "g= np.matrix('[4, 1, 9; 12, 3, 1; 4, 5, 6]')\n",
        "sum_g=np.sum(g)\n",
        "sum_g_row=np.sum(g,axis=1)\n",
        "sum_g_col=np.sum(g,axis=0)\n",
        "sum_g_col, sum_g_row, sum_g\n"
      ],
      "metadata": {
        "colab": {
          "base_uri": "https://localhost:8080/"
        },
        "id": "H27Waz3aEL14",
        "outputId": "5a689819-7567-462b-8a8c-1faf9b39e16b"
      },
      "execution_count": null,
      "outputs": [
        {
          "output_type": "execute_result",
          "data": {
            "text/plain": [
              "(matrix([[20,  9, 16]]),\n",
              " matrix([[14],\n",
              "         [16],\n",
              "         [15]]),\n",
              " 45)"
            ]
          },
          "metadata": {},
          "execution_count": 18
        }
      ]
    },
    {
      "cell_type": "code",
      "source": [],
      "metadata": {
        "id": "dIFpfQdeHV8d"
      },
      "execution_count": null,
      "outputs": []
    },
    {
      "cell_type": "code",
      "source": [],
      "metadata": {
        "id": "DJ_SaspdFM5W"
      },
      "execution_count": null,
      "outputs": []
    }
  ]
}