{
  "nbformat": 4,
  "nbformat_minor": 0,
  "metadata": {
    "colab": {
      "provenance": [],
      "include_colab_link": true
    },
    "kernelspec": {
      "name": "python3",
      "display_name": "Python 3"
    },
    "language_info": {
      "name": "python"
    }
  },
  "cells": [
    {
      "cell_type": "markdown",
      "metadata": {
        "id": "view-in-github",
        "colab_type": "text"
      },
      "source": [
        "<a href=\"https://colab.research.google.com/github/shivanshi2206/BIG_DATA_ANALYTICS/blob/main/assignment3_202301061.ipynb\" target=\"_parent\"><img src=\"https://colab.research.google.com/assets/colab-badge.svg\" alt=\"Open In Colab\"/></a>"
      ]
    },
    {
      "cell_type": "markdown",
      "source": [
        "Assignment-3"
      ],
      "metadata": {
        "id": "9glWQDdHg7V0"
      }
    },
    {
      "cell_type": "markdown",
      "source": [
        "Q.1 Create a dataset as follow follow in the table"
      ],
      "metadata": {
        "id": "hrIc_stKhHdz"
      }
    },
    {
      "cell_type": "code",
      "execution_count": null,
      "metadata": {
        "colab": {
          "base_uri": "https://localhost:8080/"
        },
        "id": "_enIn9u-QD9I",
        "outputId": "71372725-e7a4-4657-8cb9-416e119726b4"
      },
      "outputs": [
        {
          "output_type": "stream",
          "name": "stdout",
          "text": [
            "    Refund Marital Status Taxable Income Cheat\n",
            "Tid                                           \n",
            "1      Yes         Single           125k    No\n",
            "2       No        Married           100k   Yes\n",
            "3       No         Single            70k    No\n",
            "4      Yes        Married           120k   Yes\n",
            "5       No       Divorced           220k    No\n",
            "6      Yes        Married           339k   Yes\n",
            "7      Yes         Single           123k    No\n",
            "8       No        Married            85k    No\n",
            "9      Yes       Divorced           854k    No\n"
          ]
        }
      ],
      "source": [
        "import pandas as pd\n",
        "dataset={\n",
        "    \"Refund\": [\"Yes\",\"No\",\"No\",\"Yes\",\"No\",\"Yes\",\"Yes\",\"No\",\"Yes\"],\n",
        "    \"Marital Status\": [\"Single\",\"Married\",\"Single\",\"Married\",\"Divorced\",\"Married\",\"Single\",\"Married\",\"Divorced\"],\n",
        "    \"Taxable Income\": [\"125k\",\"100k\",\"70k\",\"120k\",\"220k\",\"339k\",\"123k\",\"85k\",\"854k\"],\n",
        "    \"Cheat\" : [\"No\",\"Yes\",\"No\",\"Yes\",\"No\",\"Yes\",\"No\",\"No\",\"No\"]\n",
        "}\n",
        "data=pd.DataFrame(dataset,index= pd.RangeIndex(start=1,stop=10,name=\"Tid\"))\n",
        "print(data)"
      ]
    },
    {
      "cell_type": "markdown",
      "source": [
        "Q.2 From the above table that you have created, Locate row 0, 4, 7 and 8 using dataframe."
      ],
      "metadata": {
        "id": "ymr0yre__e3w"
      }
    },
    {
      "cell_type": "code",
      "source": [
        "data = pd.DataFrame(dataset)\n",
        "print(data.loc[0])\n",
        "print(data.loc[4])\n",
        "print(data.loc[7])\n",
        "print(data.loc[8])"
      ],
      "metadata": {
        "colab": {
          "base_uri": "https://localhost:8080/"
        },
        "id": "LHSRRTBMUxdn",
        "outputId": "793e8d8d-1001-4e7d-ead0-e49a50db8c10"
      },
      "execution_count": null,
      "outputs": [
        {
          "output_type": "stream",
          "name": "stdout",
          "text": [
            "Refund               Yes\n",
            "Marital Status    Single\n",
            "Taxable Income      125k\n",
            "Cheat                 No\n",
            "Name: 0, dtype: object\n",
            "Refund                  No\n",
            "Marital Status    Divorced\n",
            "Taxable Income        220k\n",
            "Cheat                   No\n",
            "Name: 4, dtype: object\n",
            "Refund                 No\n",
            "Marital Status    Married\n",
            "Taxable Income        85k\n",
            "Cheat                  No\n",
            "Name: 7, dtype: object\n",
            "Refund                 Yes\n",
            "Marital Status    Divorced\n",
            "Taxable Income        854k\n",
            "Cheat                   No\n",
            "Name: 8, dtype: object\n"
          ]
        }
      ]
    },
    {
      "cell_type": "markdown",
      "source": [
        "Q.3  Read a csv file in google colab, and Read a csv file in google colab, and display it."
      ],
      "metadata": {
        "id": "AwlpAf16_Xn5"
      }
    },
    {
      "cell_type": "code",
      "source": [
        "import pandas as pd\n",
        "url=\"https://raw.githubusercontent.com/AnjulaMehto/MCA/main/data.csv\"\n",
        "df = pd.read_csv(url)\n",
        "print(df)"
      ],
      "metadata": {
        "colab": {
          "base_uri": "https://localhost:8080/"
        },
        "id": "oClJRrd1Yiee",
        "outputId": "f13996ab-bf01-47b3-ac88-3a05d2e93518"
      },
      "execution_count": null,
      "outputs": [
        {
          "output_type": "stream",
          "name": "stdout",
          "text": [
            "     Duration  Pulse  Maxpulse  Calories\n",
            "0          60    110       130     409.1\n",
            "1          60    117       145     479.0\n",
            "2          60    103       135     340.0\n",
            "3          45    109       175     282.4\n",
            "4          45    117       148     406.0\n",
            "..        ...    ...       ...       ...\n",
            "164        60    105       140     290.8\n",
            "165        60    110       145     300.0\n",
            "166        60    115       145     310.2\n",
            "167        75    120       150     320.4\n",
            "168        75    125       150     330.4\n",
            "\n",
            "[169 rows x 4 columns]\n"
          ]
        }
      ]
    },
    {
      "cell_type": "code",
      "source": [],
      "metadata": {
        "id": "Ibt4dHynY_Yg"
      },
      "execution_count": null,
      "outputs": []
    }
  ]
}